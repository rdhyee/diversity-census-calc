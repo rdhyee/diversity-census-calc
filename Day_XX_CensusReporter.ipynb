{
 "cells": [
  {
   "cell_type": "code",
   "execution_count": 1,
   "metadata": {
    "collapsed": false
   },
   "outputs": [],
   "source": [
    "try:\n",
    "    import settings\n",
    "    assert type(settings.CENSUS_KEY) == str or type(settings.CENSUS_KEY) == unicode\n",
    "except Exception as e:\n",
    "    print (\"error in importing settings to get at settings.CENSUS_KEY\", e)"
   ]
  },
  {
   "cell_type": "code",
   "execution_count": 2,
   "metadata": {
    "collapsed": false
   },
   "outputs": [],
   "source": [
    "from census import Census\n",
    "from us import states\n",
    "\n",
    "c = Census(settings.CENSUS_KEY)"
   ]
  },
  {
   "cell_type": "markdown",
   "metadata": {},
   "source": [
    "Does the `census` module need to be updated to accomodate [Census Bureau's API Updated with 2013 ACS (1-yr) and New Features](http://www.census.gov/data/developers/updates/2013-ACS-1-yr-plus-new-features.html)?  Maybe.  I may need to formulate URL by hand."
   ]
  },
  {
   "cell_type": "markdown",
   "metadata": {},
   "source": [
    "[American Community Survey 1 Year Data](http://www.census.gov/data/developers/data-sets/acs-survey-1-year-data.html) --> latest, greatest:\n",
    "\n",
    "for 2012, sample call:\n",
    "\n",
    "http://api.census.gov/data/2012/acs1/profile?get=DP02_0001PE&for=state:*&key=..."
   ]
  },
  {
   "cell_type": "code",
   "execution_count": 3,
   "metadata": {
    "collapsed": false
   },
   "outputs": [
    {
     "data": {
      "text/plain": [
       "b'[[\"DP02_0001PE\",\"state\"],\\n[\"1845169\",\"1\"],\\n[\"251651\",\"2\"],\\n[\"2392168\",\"4\"],\\n[\"1143859\",\"5\"],\\n[\"12552658\",\"6\"],\\n[\"1996088\",\"8\"],\\n[\"1357812\",\"9\"],\\n[\"340308\",\"10\"],\\n[\"266662\",\"11\"],\\n[\"7197943\",\"12\"],\\n[\"3532908\",\"13\"],\\n[\"447748\",\"15\"],\\n[\"583106\",\"16\"],\\n[\"4770194\",\"17\"],\\n[\"2480077\",\"18\"],\\n[\"1227048\",\"19\"],\\n[\"1113911\",\"20\"],\\n[\"1707004\",\"21\"],\\n[\"1719473\",\"22\"],\\n[\"554543\",\"23\"],\\n[\"2157717\",\"24\"],\\n[\"2522394\",\"25\"],\\n[\"3819068\",\"26\"],\\n[\"2111943\",\"27\"],\\n[\"1090521\",\"28\"],\\n[\"2359135\",\"29\"],\\n[\"408938\",\"30\"],\\n[\"733570\",\"31\"],\\n[\"1006605\",\"32\"],\\n[\"519137\",\"33\"],\\n[\"3198799\",\"34\"],\\n[\"764996\",\"35\"],\\n[\"7238922\",\"36\"],\\n[\"3731325\",\"37\"],\\n[\"290944\",\"38\"],\\n[\"4554672\",\"39\"],\\n[\"1446667\",\"40\"],\\n[\"1516957\",\"41\"],\\n[\"4958249\",\"42\"],\\n[\"413083\",\"44\"],\\n[\"1787340\",\"45\"],\\n[\"323765\",\"46\"],\\n[\"2480090\",\"47\"],\\n[\"8970959\",\"48\"],\\n[\"895691\",\"49\"],\\n[\"258520\",\"50\"],\\n[\"3038967\",\"51\"],\\n[\"2636817\",\"53\"],\\n[\"741544\",\"54\"],\\n[\"2288362\",\"55\"],\\n[\"223513\",\"56\"]]'"
      ]
     },
     "execution_count": 3,
     "metadata": {},
     "output_type": "execute_result"
    }
   ],
   "source": [
    "# 2012 ACS-1year sample call\n",
    "url = \"http://api.census.gov/data/2012/acs1/profile?get=DP02_0001PE&for=state:*&key={key}\".format(key=settings.CENSUS_KEY)\n",
    "\n",
    "import requests\n",
    "\n",
    "r = requests.get(url)\n",
    "r.content"
   ]
  },
  {
   "cell_type": "code",
   "execution_count": 4,
   "metadata": {
    "collapsed": false
   },
   "outputs": [
    {
     "data": {
      "text/plain": [
       "{'concept': 'SELECTED SOCIAL CHARACTERISTICS IN THE UNITED STATES',\n",
       " 'label': 'HOUSEHOLDS BY TYPE!!Total households',\n",
       " 'name': 'DP02_0001PE',\n",
       " 'predicateType': 'int'}"
      ]
     },
     "execution_count": 4,
     "metadata": {},
     "output_type": "execute_result"
    }
   ],
   "source": [
    "# http://api.census.gov/data/2013/acs1/profile/variables/DP02_0001PE.json exists\n",
    "\n",
    "requests.get(\"http://api.census.gov/data/2013/acs1/profile/variables/DP02_0001PE.json\").json()"
   ]
  },
  {
   "cell_type": "code",
   "execution_count": 5,
   "metadata": {
    "collapsed": false
   },
   "outputs": [
    {
     "data": {
      "text/plain": [
       "b'[[\"DP02_0001PE\",\"state\"],\\n[\"1822439\",\"01\"],\\n[\"246015\",\"02\"],\\n[\"2400809\",\"04\"],\\n[\"1125899\",\"05\"],\\n[\"12650592\",\"06\"],\\n[\"2002800\",\"08\"],\\n[\"1339860\",\"09\"],\\n[\"339071\",\"10\"],\\n[\"271651\",\"11\"],\\n[\"7211584\",\"12\"],\\n[\"3546965\",\"13\"],\\n[\"450120\",\"15\"],\\n[\"588489\",\"16\"],\\n[\"4783421\",\"17\"],\\n[\"2498395\",\"18\"],\\n[\"1236209\",\"19\"],\\n[\"1113729\",\"20\"],\\n[\"1705623\",\"21\"],\\n[\"1728149\",\"22\"],\\n[\"547686\",\"23\"],\\n[\"2161680\",\"24\"],\\n[\"2536321\",\"25\"],\\n[\"3832466\",\"26\"],\\n[\"2119954\",\"27\"],\\n[\"1091002\",\"28\"],\\n[\"2362853\",\"29\"],\\n[\"406288\",\"30\"],\\n[\"730579\",\"31\"],\\n[\"1002571\",\"32\"],\\n[\"519246\",\"33\"],\\n[\"3176139\",\"34\"],\\n[\"753507\",\"35\"],\\n[\"7219356\",\"36\"],\\n[\"3757480\",\"37\"],\\n[\"298298\",\"38\"],\\n[\"4564745\",\"39\"],\\n[\"1447277\",\"40\"],\\n[\"1523799\",\"41\"],\\n[\"4938894\",\"42\"],\\n[\"406366\",\"44\"],\\n[\"1794989\",\"45\"],\\n[\"331406\",\"46\"],\\n[\"2490249\",\"47\"],\\n[\"9110853\",\"48\"],\\n[\"899475\",\"49\"],\\n[\"253234\",\"50\"],\\n[\"3055863\",\"51\"],\\n[\"2644557\",\"53\"],\\n[\"738653\",\"54\"],\\n[\"2289424\",\"55\"],\\n[\"224003\",\"56\"]]'"
      ]
     },
     "execution_count": 5,
     "metadata": {},
     "output_type": "execute_result"
    }
   ],
   "source": [
    "# 2013 ACS-1year sample call\n",
    "\n",
    "url = \"http://api.census.gov/data/2013/acs1/profile?get=DP02_0001PE&for=state:*&key={key}\".format(key=settings.CENSUS_KEY)\n",
    "\n",
    "import requests\n",
    "\n",
    "r = requests.get(url)\n",
    "r.content\n"
   ]
  },
  {
   "cell_type": "code",
   "execution_count": 6,
   "metadata": {
    "collapsed": false
   },
   "outputs": [
    {
     "data": {
      "text/plain": [
       "{'concept': 'B01003.  Total Population',\n",
       " 'label': 'Total',\n",
       " 'name': 'B01003_001E',\n",
       " 'predicateType': 'int'}"
      ]
     },
     "execution_count": 6,
     "metadata": {},
     "output_type": "execute_result"
    }
   ],
   "source": [
    "# trying to get total population for 2013-1year\n",
    "\n",
    "# http://censusreporter.org/data/table/?table=B01003&geo_ids=04000US06&primary_geo_id=04000US06\n",
    "# reports 38,332,521 +/- 0\n",
    "\n",
    "requests.get(\"http://api.census.gov/data/2013/acs1/variables/B01003_001E.json\").json()\n"
   ]
  },
  {
   "cell_type": "code",
   "execution_count": 7,
   "metadata": {
    "collapsed": false
   },
   "outputs": [
    {
     "data": {
      "text/plain": [
       "b\"error: error: unknown variable 'B01003_001E'\""
      ]
     },
     "execution_count": 7,
     "metadata": {},
     "output_type": "execute_result"
    }
   ],
   "source": [
    "url = \"http://api.census.gov/data/2013/acs1/profile?get=B01003_001E&for=state:*&key={key}\".format(key=settings.CENSUS_KEY)\n",
    "r = requests.get(url)\n",
    "r.content"
   ]
  },
  {
   "cell_type": "code",
   "execution_count": 8,
   "metadata": {
    "collapsed": false
   },
   "outputs": [
    {
     "data": {
      "text/plain": [
       "[{'B01003_001E': '4777326', 'state': '01'},\n",
       " {'B01003_001E': '711139', 'state': '02'},\n",
       " {'B01003_001E': '6410979', 'state': '04'},\n",
       " {'B01003_001E': '2916372', 'state': '05'},\n",
       " {'B01003_001E': '37325068', 'state': '06'},\n",
       " {'B01003_001E': '5042853', 'state': '08'},\n",
       " {'B01003_001E': '3572213', 'state': '09'},\n",
       " {'B01003_001E': '900131', 'state': '10'},\n",
       " {'B01003_001E': '605759', 'state': '11'},\n",
       " {'B01003_001E': '18885152', 'state': '12'},\n",
       " {'B01003_001E': '9714569', 'state': '13'},\n",
       " {'B01003_001E': '1362730', 'state': '15'},\n",
       " {'B01003_001E': '1567803', 'state': '16'},\n",
       " {'B01003_001E': '12823860', 'state': '17'},\n",
       " {'B01003_001E': '6485530', 'state': '18'},\n",
       " {'B01003_001E': '3047646', 'state': '19'},\n",
       " {'B01003_001E': '2851183', 'state': '20'},\n",
       " {'B01003_001E': '4340167', 'state': '21'},\n",
       " {'B01003_001E': '4529605', 'state': '22'},\n",
       " {'B01003_001E': '1329084', 'state': '23'},\n",
       " {'B01003_001E': '5785496', 'state': '24'},\n",
       " {'B01003_001E': '6560595', 'state': '25'},\n",
       " {'B01003_001E': '9897264', 'state': '26'},\n",
       " {'B01003_001E': '5313081', 'state': '27'},\n",
       " {'B01003_001E': '2967620', 'state': '28'},\n",
       " {'B01003_001E': '5982413', 'state': '29'},\n",
       " {'B01003_001E': '990785', 'state': '30'},\n",
       " {'B01003_001E': '1827306', 'state': '31'},\n",
       " {'B01003_001E': '2704204', 'state': '32'},\n",
       " {'B01003_001E': '1317474', 'state': '33'},\n",
       " {'B01003_001E': '8793888', 'state': '34'},\n",
       " {'B01003_001E': '2055287', 'state': '35'},\n",
       " {'B01003_001E': '19398125', 'state': '36'},\n",
       " {'B01003_001E': '9544249', 'state': '37'},\n",
       " {'B01003_001E': '676253', 'state': '38'},\n",
       " {'B01003_001E': '11533561', 'state': '39'},\n",
       " {'B01003_001E': '3749005', 'state': '40'},\n",
       " {'B01003_001E': '3836628', 'state': '41'},\n",
       " {'B01003_001E': '12699589', 'state': '42'},\n",
       " {'B01003_001E': '1052471', 'state': '44'},\n",
       " {'B01003_001E': '4630351', 'state': '45'},\n",
       " {'B01003_001E': '815871', 'state': '46'},\n",
       " {'B01003_001E': '6353226', 'state': '47'},\n",
       " {'B01003_001E': '25208897', 'state': '48'},\n",
       " {'B01003_001E': '2766233', 'state': '49'},\n",
       " {'B01003_001E': '625498', 'state': '50'},\n",
       " {'B01003_001E': '8014955', 'state': '51'},\n",
       " {'B01003_001E': '6738714', 'state': '53'},\n",
       " {'B01003_001E': '1850481', 'state': '54'},\n",
       " {'B01003_001E': '5687219', 'state': '55'},\n",
       " {'B01003_001E': '562803', 'state': '56'},\n",
       " {'B01003_001E': '3716727', 'state': '72'}]"
      ]
     },
     "execution_count": 8,
     "metadata": {},
     "output_type": "execute_result"
    }
   ],
   "source": [
    "# how about from the following tutorial:\n",
    "# http://www.digital-geography.com/many-people-live-area/#.VDrwINTF8ds\n",
    "\n",
    "Census(settings.CENSUS_KEY, year=2012).acs.get([\"B01003_001E\"],{'for':'state:*'})"
   ]
  },
  {
   "cell_type": "code",
   "execution_count": 9,
   "metadata": {
    "collapsed": false
   },
   "outputs": [
    {
     "ename": "FileNotFoundError",
     "evalue": "[Errno 2] No such file or directory: '/Users/raymondyee/Downloads/variables_acs1_2013.json'",
     "output_type": "error",
     "traceback": [
      "\u001b[0;31m---------------------------------------------------------------------------\u001b[0m",
      "\u001b[0;31mFileNotFoundError\u001b[0m                         Traceback (most recent call last)",
      "\u001b[0;32m<ipython-input-9-32c997eac7f9>\u001b[0m in \u001b[0;36m<module>\u001b[0;34m()\u001b[0m\n\u001b[1;32m      1\u001b[0m \u001b[0;32mimport\u001b[0m \u001b[0mjson\u001b[0m\u001b[0;34m\u001b[0m\u001b[0m\n\u001b[0;32m----> 2\u001b[0;31m \u001b[0mfp\u001b[0m \u001b[0;34m=\u001b[0m \u001b[0mopen\u001b[0m\u001b[0;34m(\u001b[0m\u001b[0;34m\"/Users/raymondyee/Downloads/variables_acs1_2013.json\"\u001b[0m\u001b[0;34m)\u001b[0m\u001b[0;34m\u001b[0m\u001b[0m\n\u001b[0m\u001b[1;32m      3\u001b[0m \u001b[0mvariables_acs1_2013\u001b[0m \u001b[0;34m=\u001b[0m \u001b[0mjson\u001b[0m\u001b[0;34m.\u001b[0m\u001b[0mload\u001b[0m\u001b[0;34m(\u001b[0m\u001b[0mfp\u001b[0m\u001b[0;34m)\u001b[0m\u001b[0;34m\u001b[0m\u001b[0m\n",
      "\u001b[0;31mFileNotFoundError\u001b[0m: [Errno 2] No such file or directory: '/Users/raymondyee/Downloads/variables_acs1_2013.json'"
     ]
    }
   ],
   "source": [
    "import json\n",
    "fp = open(\"/Users/raymondyee/Downloads/variables_acs1_2013.json\")\n",
    "variables_acs1_2013 = json.load(fp)"
   ]
  },
  {
   "cell_type": "code",
   "execution_count": null,
   "metadata": {
    "collapsed": false
   },
   "outputs": [],
   "source": [
    "len(variables_acs1_2013['variables'].keys())"
   ]
  },
  {
   "cell_type": "code",
   "execution_count": null,
   "metadata": {
    "collapsed": false
   },
   "outputs": [],
   "source": [
    "'B01003_001E' in variables_acs1_2013['variables'].keys()"
   ]
  },
  {
   "cell_type": "code",
   "execution_count": null,
   "metadata": {
    "collapsed": false
   },
   "outputs": [],
   "source": [
    "variables_acs1_2013 = json.load"
   ]
  },
  {
   "cell_type": "code",
   "execution_count": null,
   "metadata": {
    "collapsed": false
   },
   "outputs": [],
   "source": [
    "# trying to get the 1-year total population for 2012 --> en route to the 2013 1-year\n",
    "\n",
    "c.acs1dp.get('DP05_0004E', {'for': 'state:*'})"
   ]
  },
  {
   "cell_type": "code",
   "execution_count": null,
   "metadata": {
    "collapsed": false
   },
   "outputs": [],
   "source": [
    "c.acs.get('B01001_004E', {'for': 'state:*'})"
   ]
  },
  {
   "cell_type": "code",
   "execution_count": null,
   "metadata": {
    "collapsed": false
   },
   "outputs": [],
   "source": [
    "# age and sex\n",
    "# http://censusreporter.org/data/table/?table=B01001&geo_ids=16000US0606000&primary_geo_id=16000US0606000"
   ]
  },
  {
   "cell_type": "code",
   "execution_count": null,
   "metadata": {
    "collapsed": false
   },
   "outputs": [],
   "source": [
    "requests.get(\"http://api.census.gov/data/2013/acs1/variables/B01001_001E.json\").json()"
   ]
  },
  {
   "cell_type": "code",
   "execution_count": null,
   "metadata": {
    "collapsed": false
   },
   "outputs": [],
   "source": [
    "url = \"http://api.census.gov/data/2013/acs1/profile?get=B01001_001E&for=state:*&key={key}\".format(key=settings.CENSUS_KEY)\n",
    "\n",
    "\n",
    "r = requests.get(url)\n",
    "r.content"
   ]
  },
  {
   "cell_type": "markdown",
   "metadata": {},
   "source": [
    "I was looking at the wrong place!!\n",
    "\n",
    "\n",
    "Summary File:\n",
    "API Call: http://api.census.gov/data/2013/acs1?\n",
    "2013 ACS Summary File Variables [ html | xml | json ]\n",
    "ACS Technical Documentation\n",
    "\n",
    "\n",
    "Data Profile:\n",
    "Example Call: http://api.census.gov/data/2013/acs1/profile?get=DP02_0001PE&for=state:*&key=...\n",
    "2013 ACS Data Profile Variables [ html | xml | json ]\n",
    "ACS Technical Documentation"
   ]
  },
  {
   "cell_type": "code",
   "execution_count": null,
   "metadata": {
    "collapsed": false
   },
   "outputs": [],
   "source": [
    "requests.get(\"http://api.census.gov/data/2013/acs1/profile/variables/DP05_0028E.json\").json()"
   ]
  },
  {
   "cell_type": "code",
   "execution_count": null,
   "metadata": {
    "collapsed": false
   },
   "outputs": [],
   "source": [
    "url = \"http://api.census.gov/data/2013/acs1/profile?get=DP05_0028E&for=state:*&key={key}\".format(key=settings.CENSUS_KEY)\n",
    "r = requests.get(url)\n",
    "r.json()"
   ]
  },
  {
   "cell_type": "code",
   "execution_count": null,
   "metadata": {
    "collapsed": false
   },
   "outputs": [],
   "source": [
    "c.acs1dp.get('DP05_0028E', {'for': 'state:*'}, year=2013)"
   ]
  },
  {
   "cell_type": "code",
   "execution_count": null,
   "metadata": {
    "collapsed": false
   },
   "outputs": [],
   "source": [
    "# how to get the total population of Berkeley, CA\n",
    "# let's do Alameda County first\n",
    "\n",
    "requests.get(\"http://api.census.gov/data/2013/acs1/profile?get=DP05_0028E,NAME&for=county:001&in=state:06\").json()"
   ]
  },
  {
   "cell_type": "code",
   "execution_count": null,
   "metadata": {
    "collapsed": false
   },
   "outputs": [],
   "source": [
    "requests.get(\"http://api.census.gov/data/2013/acs1/profile?get=DP05_0028E,NAME&for=place:06000&in=state:06\").json()"
   ]
  },
  {
   "cell_type": "code",
   "execution_count": null,
   "metadata": {
    "collapsed": false
   },
   "outputs": [],
   "source": [
    "# age\n",
    "# http://censusreporter.org/profiles/16000US0606000-berkeley-ca/#age\n",
    "\n",
    "requests.get(\"http://api.census.gov/data/2013/acs1/profile/variables/DP05_0004E.json\").json()"
   ]
  },
  {
   "cell_type": "code",
   "execution_count": null,
   "metadata": {
    "collapsed": false
   },
   "outputs": [],
   "source": [
    "r = requests.get(\"http://api.census.gov/data/2013/acs1/profile?get=DP05_0028E,DP05_0004E,DP05_0005E,NAME&for=place:06000&in=state:06\").json()\n",
    "r"
   ]
  },
  {
   "cell_type": "code",
   "execution_count": null,
   "metadata": {
    "collapsed": false
   },
   "outputs": [],
   "source": [
    "from itertools import izip\n",
    "d = dict(izip(r[0],r[1]))\n",
    "d"
   ]
  },
  {
   "cell_type": "code",
   "execution_count": null,
   "metadata": {
    "collapsed": false
   },
   "outputs": [],
   "source": [
    "# number of population 0->9\n",
    "\n",
    "int(d[u'DP05_0004E']) + int(d[u'DP05_0004E'])"
   ]
  },
  {
   "cell_type": "code",
   "execution_count": null,
   "metadata": {
    "collapsed": false
   },
   "outputs": [],
   "source": []
  }
 ],
 "metadata": {
  "kernelspec": {
   "display_name": "Python 3",
   "language": "python",
   "name": "python3"
  },
  "language_info": {
   "codemirror_mode": {
    "name": "ipython",
    "version": 3
   },
   "file_extension": ".py",
   "mimetype": "text/x-python",
   "name": "python",
   "nbconvert_exporter": "python",
   "pygments_lexer": "ipython3",
   "version": "3.4.3"
  }
 },
 "nbformat": 4,
 "nbformat_minor": 0
}
