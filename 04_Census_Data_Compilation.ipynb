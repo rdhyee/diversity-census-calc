{
 "cells": [
  {
   "cell_type": "markdown",
   "metadata": {},
   "source": [
    "Data to compile\n",
    "\n",
    "geographies:\n",
    "\n",
    "* states\n",
    "* counties\n",
    "* msa\n",
    "* csa\n",
    "\n",
    "* populations \n",
    "* populations with P005*\n",
    "* populations and 5 categories\n",
    "* populations with entropy calcs\n",
    "\n",
    "under census_2010_sf1/\n",
    "\n",
    "* states_population.csv\n",
    "* states_P005.csv\n",
    "* states_five_categories.csv\n",
    "* states_diversity_measures.csv"
   ]
  },
  {
   "cell_type": "markdown",
   "metadata": {},
   "source": [
    "* populations ['NAME', 'P0050001', 'FIPS']\n",
    "* populations with P005* default-labels \n",
    "* populations and 5 categories \n",
    "* populations with entropy calcs"
   ]
  },
  {
   "cell_type": "code",
   "execution_count": null,
   "metadata": {
    "collapsed": true
   },
   "outputs": [],
   "source": [
    "import census_api_utils as utils\n",
    "import csv\n",
    "import os\n",
    "import codecs\n",
    "\n",
    "import pandas as pd\n",
    "from pandas import DataFrame, Series"
   ]
  },
  {
   "cell_type": "code",
   "execution_count": null,
   "metadata": {
    "collapsed": false
   },
   "outputs": [],
   "source": [
    "from census_api_utils import (states, counties, msas, csas, \n",
    "                              districts, zip_code_tabulation_areas, places,\n",
    "                              tracts, census_labels, rdot_labels, diversity, FINAL_LABELS)\n",
    "\n",
    "CORE_LABELS = set(rdot_labels()) | set(census_labels()) | set(FINAL_LABELS)\n",
    "\n",
    "CSVS_TO_WRITE = [('population',['NAME', 'P0050001', 'FIPS'] ),\n",
    "                 ('P005', census_labels() + ['FIPS']),\n",
    "                 ('five_categories', ['NAME', 'Total'] + rdot_labels() + ['FIPS']),\n",
    "                 ('diversity_measures', FINAL_LABELS + ['FIPS'] )\n",
    "                ]\n",
    "\n",
    "US_POPULATION_2010 = 308745538\n",
    "\n",
    "def rename_column(df, rename_dict):\n",
    "    cols2 = []\n",
    "    for col in df.columns:\n",
    "        cols2.append(rename_dict.get(col, col))\n",
    "    df.columns = cols2\n",
    "    return df\n",
    "\n",
    "def calc_diversity(geog):\n",
    "    r = list(geog(census_labels()))\n",
    "    df = DataFrame(r)\n",
    "    df = diversity(df)\n",
    "\n",
    "    return df\n",
    "\n",
    "\n",
    "def write_csvs(df, geog_name, dirpath=\"census_2010_sf1\"):\n",
    "    for (csv_label, df_labels) in CSVS_TO_WRITE:\n",
    "        fname = \"{}_{}.csv\".format(geog_name, csv_label)\n",
    "        df[df_labels].to_csv(path_or_buf=os.path.join(dirpath,fname), \n",
    "                 index=None,\n",
    "                 quoting=csv.QUOTE_NONNUMERIC)"
   ]
  },
  {
   "cell_type": "code",
   "execution_count": null,
   "metadata": {
    "collapsed": false
   },
   "outputs": [],
   "source": [
    "df= calc_diversity(states)\n",
    "\n",
    "#state\n",
    "df['FIPS'] = df.apply(lambda r: r[\"state\"], axis=1)\n",
    "\n",
    "write_csvs(df, 'state')"
   ]
  },
  {
   "cell_type": "code",
   "execution_count": null,
   "metadata": {
    "collapsed": true
   },
   "outputs": [],
   "source": [
    "# counties\n",
    "df= calc_diversity(counties)\n",
    "df[\"FIPS\"] = df.apply(lambda r: r[\"state\"] + r[\"county\"], axis=1)\n",
    "write_csvs(df, 'county')"
   ]
  },
  {
   "cell_type": "code",
   "execution_count": null,
   "metadata": {
    "collapsed": false
   },
   "outputs": [],
   "source": [
    "# msas\n",
    "# special case\n",
    "\n",
    "r = list(msas(census_labels()))\n",
    "df=DataFrame(r)\n",
    "df[census_labels(include_name=False)] = df[census_labels(include_name=False)].astype('int')\n",
    "\n",
    "msas_grouped = df.groupby('metropolitan statistical area/micropolitan statistical area')\n",
    "\n",
    "# deal with names in df1 and populations in df2\n",
    "\n",
    "df1 = msas_grouped.apply(lambda x:Series((list(x['NAME']), ), \n",
    "                                         index=['msas']))\n",
    "\n",
    "\n",
    "df2 = msas_grouped.sum()\n",
    "df3 = pd.concat((df1,df2), axis=1)\n",
    "df3['NAME'] = df3.apply(lambda x: \"; \".join(x['msas']), axis=1)\n",
    "\n",
    "df3['FIPS'] = df3.index\n",
    "msas_df = diversity(df3)\n",
    "write_csvs(msas_df,'msa')"
   ]
  },
  {
   "cell_type": "code",
   "execution_count": null,
   "metadata": {
    "collapsed": true
   },
   "outputs": [],
   "source": [
    "#csas\n",
    "\n",
    "r = list(csas(census_labels()))\n",
    "df=DataFrame(r)\n",
    "df[census_labels(include_name=False)] = df[census_labels(include_name=False)].astype('int')\n",
    "\n",
    "csas_grouped = df.groupby('combined statistical area')\n",
    "\n",
    "# deal with names in df1 and populations in df2\n",
    "\n",
    "df1 = csas_grouped.apply(lambda x:Series((list(x['NAME']), ), \n",
    "                                         index=['csas']))\n",
    "\n",
    "\n",
    "df2 = csas_grouped.sum()\n",
    "df3 = pd.concat((df1,df2), axis=1)\n",
    "df3['NAME'] = df3.apply(lambda x: \"; \".join(x['csas']), axis=1)\n",
    "\n",
    "df3['FIPS'] = df3.index\n",
    "csas_df = diversity(df3)\n",
    "write_csvs(csas_df,'csa')"
   ]
  },
  {
   "cell_type": "code",
   "execution_count": null,
   "metadata": {
    "collapsed": true
   },
   "outputs": [],
   "source": [
    "# districts\n",
    "\n",
    "df= calc_diversity(districts)\n",
    "# not right to call it FIPS but I will\n",
    "df[\"FIPS\"] = df.apply(lambda r: r[\"state\"] +  r[\"congressional district\"], axis=1)\n",
    "write_csvs(df, 'district')"
   ]
  },
  {
   "cell_type": "code",
   "execution_count": null,
   "metadata": {
    "collapsed": true
   },
   "outputs": [],
   "source": [
    "# tract\n",
    "\n",
    "df = calc_diversity(tracts)\n",
    "df[\"FIPS\"] = df.apply(lambda r: r[\"state\"] +  r[\"county\"] + r[\"tract\"], axis=1)\n",
    "write_csvs(df, 'tract')\n",
    "df.sort('entropy5', ascending=False)[['entropy5', 'FIPS', 'NAME', 'Total']]"
   ]
  },
  {
   "cell_type": "code",
   "execution_count": null,
   "metadata": {
    "collapsed": false
   },
   "outputs": [],
   "source": [
    "# place\n",
    "\n",
    "df = calc_diversity(places)\n",
    "df[\"FIPS\"] = df.apply(lambda r: r[\"state\"] +  r[\"place\"] , axis=1)\n",
    "write_csvs(df, 'place')"
   ]
  }
 ],
 "metadata": {
  "kernelspec": {
   "display_name": "Python 3",
   "language": "python",
   "name": "python3"
  },
  "language_info": {
   "codemirror_mode": {
    "name": "ipython",
    "version": 3
   },
   "file_extension": ".py",
   "mimetype": "text/x-python",
   "name": "python",
   "nbconvert_exporter": "python",
   "pygments_lexer": "ipython3",
   "version": "3.4.3"
  }
 },
 "nbformat": 4,
 "nbformat_minor": 0
}
