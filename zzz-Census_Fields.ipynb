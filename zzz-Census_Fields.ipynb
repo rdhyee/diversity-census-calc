{
 "cells": [
  {
   "cell_type": "code",
   "execution_count": null,
   "metadata": {
    "collapsed": true
   },
   "outputs": [],
   "source": [
    "import matplotlib"
   ]
  },
  {
   "cell_type": "code",
   "execution_count": null,
   "metadata": {
    "collapsed": false
   },
   "outputs": [],
   "source": [
    "%matplotlib inline"
   ]
  },
  {
   "cell_type": "code",
   "execution_count": null,
   "metadata": {
    "collapsed": false
   },
   "outputs": [],
   "source": [
    "#  import useful classes of pandas\n",
    "import pandas as pd\n",
    "from pandas import Series, DataFrame, Index"
   ]
  },
  {
   "cell_type": "code",
   "execution_count": null,
   "metadata": {
    "collapsed": false
   },
   "outputs": [],
   "source": [
    "import settings\n",
    "import census\n",
    "import requests\n",
    "\n",
    "c = census.Census(key=settings.CENSUS_KEY)"
   ]
  },
  {
   "cell_type": "code",
   "execution_count": null,
   "metadata": {
    "collapsed": false
   },
   "outputs": [],
   "source": [
    "census.__version__"
   ]
  },
  {
   "cell_type": "code",
   "execution_count": null,
   "metadata": {
    "collapsed": false
   },
   "outputs": [],
   "source": [
    "c.sf1.fields"
   ]
  },
  {
   "cell_type": "markdown",
   "metadata": {},
   "source": [
    "# Fields in SF1"
   ]
  },
  {
   "cell_type": "code",
   "execution_count": null,
   "metadata": {
    "collapsed": false
   },
   "outputs": [],
   "source": [
    "sf1_fields = c.sf1.fields(year=2010)"
   ]
  },
  {
   "cell_type": "code",
   "execution_count": null,
   "metadata": {
    "collapsed": false
   },
   "outputs": [],
   "source": [
    "sorted(sf1_fields.keys())"
   ]
  },
  {
   "cell_type": "markdown",
   "metadata": {},
   "source": [
    "Let's parse more of pieces that are in the fields"
   ]
  },
  {
   "cell_type": "code",
   "execution_count": null,
   "metadata": {
    "collapsed": false
   },
   "outputs": [],
   "source": [
    "# let's just parse sf1.xml ourselves to get the concepts\n",
    "# http://lxml.de/parsing.html\n",
    "\n",
    "from lxml import etree\n",
    "from itertools import islice\n",
    "import re\n",
    "\n",
    "def parse_concept_name(concept_name):\n",
    "    if concept_name != 'Geographic Characteristics':\n",
    "        m = re.search(\"(.+\\.)\\s+(.*)\\s+(\\[\\d+\\])\",concept_name)\n",
    "        if m: \n",
    "           return {'label':m.group(1),\n",
    "                  'clean_name':m.group(2),\n",
    "                  'num_vars':re.search(\"\\[(\\d+)\\]\", m.group(3)).group(1)\n",
    "                  }\n",
    "       # print m.groups()\n",
    "        else:\n",
    "           m1 = re.search(\"(.+\\.)\\s+(.*)\\s+\",concept_name)\n",
    "           return {'label':m1.group(1),\n",
    "                  'clean_name':m1.group(2),\n",
    "                  'num_vars':0\n",
    "                 }\n",
    "    else:\n",
    "        return None\n",
    "    \n",
    "def concepts_2010_sf1():\n",
    "    # http://www.census.gov/developers/data/sf1.xml\n",
    "    SF1_XML_PATH  = \"/Users/raymondyee/D/Document/Working_with_Open_Data/working-open-data-2014/data/sf1.xml\"\n",
    "\n",
    "    doc = etree.parse(SF1_XML_PATH)\n",
    "    for concept in doc.findall(\"//concept\"):\n",
    "        concept_name = concept.attrib['name']\n",
    "        \n",
    "        if concept_name != 'Geographic Characteristics':\n",
    "            m = re.search(\"(.+\\.)\\s+(.*)\\s+(\\[\\d+\\])\",concept_name)\n",
    "            if m: \n",
    "               yield {'label':m.group(1),\n",
    "                      'clean_name':m.group(2),\n",
    "                      'num_vars':re.search(\"\\[(\\d+)\\]\", m.group(3)).group(1)\n",
    "                      }\n",
    "           # print m.groups()\n",
    "            else:\n",
    "               m1 = re.search(\"(.+\\.)\\s+(.*)\\s+\",concept_name)\n",
    "               yield {'label':m1.group(1),\n",
    "                      'clean_name':m1.group(2),\n",
    "                      'num_vars':0\n",
    "                     }\n",
    "            \n",
    "k = list(concepts_2010_sf1())    \n",
    "k"
   ]
  },
  {
   "cell_type": "code",
   "execution_count": null,
   "metadata": {
    "collapsed": false
   },
   "outputs": [],
   "source": [
    "df = DataFrame(k, columns=('label','clean_name','num_vars'))\n",
    "df.head()"
   ]
  },
  {
   "cell_type": "code",
   "execution_count": null,
   "metadata": {
    "collapsed": false
   },
   "outputs": [],
   "source": [
    "import re\n",
    "\n",
    "def sort_label(label):\n",
    "    (l1, l2, l3) = re.search(\"([A-Z,a-z]+)(\\d+)([A-Z,a-z]*)\\.\",label).groups()\n",
    "    return l1 + \" \" + \"{l2:03d}\".format(l2=int(l2)) + l3\n",
    "\n",
    "df['sort_label'] = df.label.apply(sort_label)"
   ]
  },
  {
   "cell_type": "code",
   "execution_count": null,
   "metadata": {
    "collapsed": false
   },
   "outputs": [],
   "source": [
    "df[df.label.str.startswith(\"P5\")]"
   ]
  },
  {
   "cell_type": "code",
   "execution_count": null,
   "metadata": {
    "collapsed": false
   },
   "outputs": [],
   "source": [
    "# let's go right for the variables and generate a dict, DF\n",
    "\n",
    "from lxml import etree\n",
    "from itertools import islice\n",
    "from collections import OrderedDict\n",
    "\n",
    "SF1_XML_PATH  = \"/Users/raymondyee/D/Document/Working_with_Open_Data/working-open-data-2014/data/sf1.xml\"\n",
    "\n",
    "doc = etree.parse(SF1_XML_PATH)\n",
    "variables = doc.findall(\"//variable\")\n",
    "\n",
    "variables_dict = OrderedDict([(v.attrib['name'], \n",
    "                               {'concept':v.attrib['concept'],\n",
    "                                'text': v.text\n",
    "                                }) for v in variables])\n",
    "\n"
   ]
  },
  {
   "cell_type": "code",
   "execution_count": null,
   "metadata": {
    "collapsed": false
   },
   "outputs": [],
   "source": [
    "variables_dict['P0050001']"
   ]
  },
  {
   "cell_type": "code",
   "execution_count": null,
   "metadata": {
    "collapsed": false
   },
   "outputs": [],
   "source": [
    "def P005_range(n0,n1): \n",
    "    return tuple(('P005'+ \"{i:04d}\".format(i=i) for i in range(n0,n1)))\n",
    "\n",
    "P005_vars = P005_range(1,18)\n",
    "P005_vars_str = \",\".join(P005_vars)\n",
    "\n",
    "[(v,variables_dict[v]['text']) for v in P005_vars]"
   ]
  },
  {
   "cell_type": "code",
   "execution_count": null,
   "metadata": {
    "collapsed": false
   },
   "outputs": [],
   "source": [
    "variables_df = DataFrame(variables_dict)\n",
    "variables_df.head()"
   ]
  },
  {
   "cell_type": "code",
   "execution_count": null,
   "metadata": {
    "collapsed": false
   },
   "outputs": [],
   "source": [
    "variables_df.T.concept.apply(parse_concept_name)"
   ]
  },
  {
   "cell_type": "code",
   "execution_count": null,
   "metadata": {
    "collapsed": false
   },
   "outputs": [],
   "source": [
    "parse_concept_name(variables_dict['P0050001']['concept'])"
   ]
  },
  {
   "cell_type": "markdown",
   "metadata": {},
   "source": [
    "# api.json"
   ]
  },
  {
   "cell_type": "code",
   "execution_count": null,
   "metadata": {
    "collapsed": false
   },
   "outputs": [],
   "source": [
    "# http://www.census.gov/developers/\n",
    "\n",
    "import requests\n",
    "url = \"http://api.census.gov/data.json\"\n",
    "api_json = requests.get(url).json()\n",
    "api_json"
   ]
  },
  {
   "cell_type": "code",
   "execution_count": null,
   "metadata": {
    "collapsed": false
   },
   "outputs": [],
   "source": [
    "len(api_json)"
   ]
  },
  {
   "cell_type": "code",
   "execution_count": null,
   "metadata": {
    "collapsed": false
   },
   "outputs": [],
   "source": [
    "api_json.keys()"
   ]
  },
  {
   "cell_type": "code",
   "execution_count": null,
   "metadata": {
    "collapsed": false
   },
   "outputs": [],
   "source": [
    "len(api_json.get('dataset'))"
   ]
  },
  {
   "cell_type": "code",
   "execution_count": null,
   "metadata": {
    "collapsed": false
   },
   "outputs": [],
   "source": [
    "df = DataFrame(api_json.get('dataset'))\n",
    "df.columns"
   ]
  },
  {
   "cell_type": "code",
   "execution_count": null,
   "metadata": {
    "collapsed": false
   },
   "outputs": [],
   "source": [
    "# don't know why there's no 2010 census\n",
    "df[df.title.apply(lambda s:'census' in s.lower())][['title']]"
   ]
  },
  {
   "cell_type": "code",
   "execution_count": null,
   "metadata": {
    "collapsed": false
   },
   "outputs": [],
   "source": [
    "df[['c_vintage', 'title']]"
   ]
  },
  {
   "cell_type": "code",
   "execution_count": null,
   "metadata": {
    "collapsed": false
   },
   "outputs": [],
   "source": [
    "# good way to see list of datasets\n",
    "sorted(list(df['title'],))"
   ]
  },
  {
   "cell_type": "markdown",
   "metadata": {},
   "source": [
    "# variables.json"
   ]
  },
  {
   "cell_type": "code",
   "execution_count": null,
   "metadata": {
    "collapsed": false
   },
   "outputs": [],
   "source": [
    "import requests\n",
    "url = \"http://api.census.gov/data/2010/sf1/variables.json\"\n",
    "var_json = requests.get(url).json()\n",
    "sorted(var_json['variables'].keys())"
   ]
  },
  {
   "cell_type": "code",
   "execution_count": null,
   "metadata": {
    "collapsed": false
   },
   "outputs": [],
   "source": [
    "var_json['variables']['P0050002']"
   ]
  },
  {
   "cell_type": "code",
   "execution_count": null,
   "metadata": {
    "collapsed": false
   },
   "outputs": [],
   "source": [
    "from pandas import DataFrame\n",
    "DataFrame(var_json['variables']).T"
   ]
  },
  {
   "cell_type": "markdown",
   "metadata": {},
   "source": [
    "# Plotting Age Distribution By Gender (Population Pyramid)"
   ]
  },
  {
   "cell_type": "markdown",
   "metadata": {},
   "source": [
    "This example written by AJ Renold.  (and rewritten by R. Yee to adapt to changes in the census API.)"
   ]
  },
  {
   "cell_type": "code",
   "execution_count": null,
   "metadata": {
    "collapsed": false
   },
   "outputs": [],
   "source": [
    "sf1_fields"
   ]
  },
  {
   "cell_type": "code",
   "execution_count": null,
   "metadata": {
    "collapsed": false
   },
   "outputs": [],
   "source": [
    "sf1_fields = c.sf1.fields(year=2010)\n",
    "\n",
    "# Get the sf1 fields that are only P12 Sex By Age\n",
    "gender_population_fields = sf1_fields.get('P12. Sex By Age [49]')\n",
    "\n",
    "# Separate the by male and female\n",
    "male_fields = { key: val for key, val in gender_population_fields.items() \n",
    "                                 if 'Male' in val and val != ' Male: ' }\n",
    "female_fields = { key: val for key, val in gender_population_fields.items() \n",
    "                                   if 'Female' in val and val != ' Female: '}"
   ]
  },
  {
   "cell_type": "code",
   "execution_count": null,
   "metadata": {
    "collapsed": false
   },
   "outputs": [],
   "source": [
    "# Query the census API with the gender_population_fields\n",
    "query_results = c.sf1.get(('NAME', ','.join(gender_population_fields.keys())), geo={'for': 'state:*'})\n",
    "\n",
    "# Create a DataFrame\n",
    "gender_df = pd.DataFrame(query_results)"
   ]
  },
  {
   "cell_type": "code",
   "execution_count": null,
   "metadata": {
    "collapsed": false
   },
   "outputs": [],
   "source": [
    "# Set the Index to the NAME column\n",
    "gender_df = gender_df.set_index(gender_df['NAME'])"
   ]
  },
  {
   "cell_type": "code",
   "execution_count": null,
   "metadata": {
    "collapsed": false
   },
   "outputs": [],
   "source": [
    "# Recast all numeric columns to be type int\n",
    "for col in gender_df.columns:\n",
    "    if col != \"state\" and col != \"NAME\":\n",
    "        gender_df[col] = gender_df[col].astype(int)"
   ]
  },
  {
   "cell_type": "code",
   "execution_count": null,
   "metadata": {
    "collapsed": false
   },
   "outputs": [],
   "source": [
    "from numpy import arange\n",
    "\n",
    "def showPopulationPyramidPlot(df, state, male_fields, female_fields):\n",
    "    \n",
    "    # create a series with the row of the state\n",
    "    s = Series(df.ix[state])\n",
    "    #del s['NAME']\n",
    "    #del s['state']\n",
    "    \n",
    "    # get the plot values and labels from the series\n",
    "    male_list = sorted([ [key, s[key]] for key in s.keys() if key in male_fields ])\n",
    "    female_list = sorted([ [key, s[key]] for key in s.keys() if key in female_fields ]) \n",
    "    \n",
    "    # calculate the bar locations and the maximum value\n",
    "    bar_ypos = arange(len(male_list))+.5\n",
    "    max_val = max([ val for label, val in male_list + female_list ])\n",
    "    \n",
    "    # create the figures for the plots\n",
    "    fig, (ax2, ax1) = plt.subplots(nrows=1, ncols=2, figsize=(18,8))\n",
    "    fig.suptitle('Population Age Pyramid for {state}'.format(state=state), fontsize=14)\n",
    "    \n",
    "    # plot the male populations\n",
    "    bar1 = ax1.barh(bar_ypos, [ val for label, val in male_list ], align='center')\n",
    "    ax1.set_xlim((0,max_val))\n",
    "    ax1.set_yticks(bar_ypos)\n",
    "    ax1.set_yticklabels([ male_fields[label][male_fields[label].find('!!')+3:] for label, val in male_list ])\n",
    "    ax1.set_xlabel('People')\n",
    "    ax1.set_title('Male Population by Age')\n",
    "    ax1.grid(True)\n",
    "    \n",
    "    # plot the the female populations\n",
    "    bar2 = ax2.barh(bar_ypos,[ val for label, val in female_list ], align='center', color='red')\n",
    "    ax2.set_yticks([])\n",
    "    #ax2.yaxis.tick_right()\n",
    "    ax2.set_xlim(ax1.get_xlim()[::-1]) # reverses the x axis direction\n",
    "    ax2.set_xlabel('People')\n",
    "    ax2.set_title('Female Population by Age')\n",
    "    ax2.grid(True)\n",
    "    \n",
    "    plt.subplots_adjust(wspace=0.22, hspace=0.0)\n",
    "    plt.show()\n"
   ]
  },
  {
   "cell_type": "code",
   "execution_count": null,
   "metadata": {
    "collapsed": false
   },
   "outputs": [],
   "source": [
    "showPopulationPyramidPlot(gender_df, 'Illinois', male_fields, female_fields)"
   ]
  },
  {
   "cell_type": "code",
   "execution_count": null,
   "metadata": {
    "collapsed": false
   },
   "outputs": [],
   "source": []
  }
 ],
 "metadata": {
  "kernelspec": {
   "display_name": "Python 3",
   "language": "python",
   "name": "python3"
  },
  "language_info": {
   "codemirror_mode": {
    "name": "ipython",
    "version": 3
   },
   "file_extension": ".py",
   "mimetype": "text/x-python",
   "name": "python",
   "nbconvert_exporter": "python",
   "pygments_lexer": "ipython3",
   "version": "3.4.3"
  }
 },
 "nbformat": 4,
 "nbformat_minor": 0
}
