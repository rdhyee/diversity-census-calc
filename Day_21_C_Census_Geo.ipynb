{
 "cells": [
  {
   "cell_type": "markdown",
   "metadata": {},
   "source": [
    "Goal:  be able to compute geo files (.shp, kml, geojson, topojson for arbitrary census geographic entities)"
   ]
  },
  {
   "cell_type": "markdown",
   "metadata": {},
   "source": [
    "# what I had gotten from MN population center\n",
    "\n",
    "https://www.nhgis.org/\n",
    "\n",
    "http://127.0.0.1:8888/notebooks/wwod13/nhgis_2013_10_16.ipynb"
   ]
  },
  {
   "cell_type": "markdown",
   "metadata": {},
   "source": [
    "# What are useful libraries?\n",
    "\n",
    "From [Learning Geospatial Analysis with Python > Preface > What you need for this book : Safari Books Online](http://my.safaribooksonline.com/book/programming/python/9781783281138/preface/pr06s02_html):\n",
    "\n",
    "    Python Version 2.x (minimum Version 2.5)\n",
    "    GDAL/OGR Version 1.7.1 or later\n",
    "    GEOS Version 3.2.2 or later\n",
    "    PyShp 1.1.6 or later\n",
    "    Shapely Version 1.2 or later\n",
    "    Proj Version 4.7 or later\n",
    "    PyProj Version 1.8.6 or later\n",
    "    NumPy\n",
    "    PNGCanvas\n",
    "    Python Imaging Library (PIL)"
   ]
  },
  {
   "cell_type": "markdown",
   "metadata": {},
   "source": [
    "# using ogr2ogr command line to convert shapefile to geojson\n",
    "\n",
    "\n",
    "On my mac, I installed binaries from [Build Notes [KyngChaos Wiki]](http://www.kyngchaos.com/macosx/build/index)  -> but I see \n",
    "\n",
    "    conda install gdal\n",
    "\n",
    "will give you command line tools like `ogr2ogr`\n",
    "\n",
    "Documentation: [GDAL: ogr2ogr](http://www.gdal.org/ogr2ogr.html) -- see whether [How to convert Shapefiles to GeoJSON maps for use on GitHub (and why you should) » Ben Balter](http://ben.balter.com/2013/06/26/how-to-convert-shapefiles-to-geojson-for-use-on-github/) gives the right incantation:\n",
    "\n",
    "    ogr2ogr -f GeoJSON -t_srs crs:84 [name].geojson [name].shp\n",
    "    \n",
    "  \n"
   ]
  },
  {
   "cell_type": "code",
   "execution_count": 1,
   "metadata": {
    "collapsed": false
   },
   "outputs": [
    {
     "name": "stdout",
     "output_type": "stream",
     "text": [
      "ls: /Users/raymondyee/Downloads/tl_2010_06001_bg00/tl_2010_06001_bg00.shp: No such file or directory\r\n"
     ]
    }
   ],
   "source": [
    "!ls /Users/raymondyee/Downloads/tl_2010_06001_bg00/tl_2010_06001_bg00.shp"
   ]
  },
  {
   "cell_type": "code",
   "execution_count": 2,
   "metadata": {
    "collapsed": false
   },
   "outputs": [
    {
     "name": "stdout",
     "output_type": "stream",
     "text": [
      "rm: /Users/raymondyee/Downloads/tl_2010_06001_bg00/tl_2010_06001_bg00.geojson: No such file or directory\n",
      "/bin/sh: /Library/Frameworks/Python.framework/Versions/Current/bin/ogr2ogr: No such file or directory\n"
     ]
    }
   ],
   "source": [
    "!rm /Users/raymondyee/Downloads/tl_2010_06001_bg00/tl_2010_06001_bg00.geojson\n",
    "!/Library/Frameworks/Python.framework/Versions/Current/bin/ogr2ogr -f GeoJSON /Users/raymondyee/Downloads/tl_2010_06001_bg00/tl_2010_06001_bg00.geojson /Users/raymondyee/Downloads/tl_2010_06001_bg00/tl_2010_06001_bg00.shp\n",
    "#!ogr2ogr -f GeoJSON -t_srs crs:84 /Users/raymondyee/Downloads/tl_2010_06001_bg00/tl_2010_06001_bg00.geojson /Users/raymondyee/Downloads/tl_2010_06001_bg00/tl_2010_06001_bg00.shp"
   ]
  },
  {
   "cell_type": "markdown",
   "metadata": {},
   "source": [
    "\n",
    "    ogr2ogr -f GeoJSON tl_2010_06001_bg00.geojson tl_2010_06001_bg00.shp\n",
    "    \n",
    "    ogr2ogr -f GeoJSON tl_2010_06001_tract10.geojson tl_2010_06001_tract10.shp"
   ]
  },
  {
   "cell_type": "markdown",
   "metadata": {},
   "source": [
    "# GDAL"
   ]
  },
  {
   "cell_type": "markdown",
   "metadata": {},
   "source": [
    "    conda install gdal\n",
    "    \n",
    "[GDAL 1.10.0 : Python Package Index](https://pypi.python.org/pypi/GDAL/)\n",
    "\n",
    "[Welcome to the Python GDAL/OGR Cookbook! — Python GDAL/OGR Cookbook 1.0 documentation](http://pcjericks.github.io/py-gdalogr-cookbook/)"
   ]
  },
  {
   "cell_type": "code",
   "execution_count": 3,
   "metadata": {
    "collapsed": false
   },
   "outputs": [],
   "source": [
    "import gdal\n",
    "import ogr\n",
    "import osr\n",
    "import gdalnumeric\n",
    "import gdalconst"
   ]
  },
  {
   "cell_type": "markdown",
   "metadata": {},
   "source": [
    "# Folium\n",
    "\n",
    "[wrobstory/folium](https://github.com/wrobstory/folium)\n",
    "\n",
    "http://nbviewer.ipython.org/gist/bburky/7763555/folium-ipython.ipynb\n"
   ]
  },
  {
   "cell_type": "code",
   "execution_count": null,
   "metadata": {
    "collapsed": false
   },
   "outputs": [],
   "source": []
  }
 ],
 "metadata": {
  "kernelspec": {
   "display_name": "Python 3",
   "language": "python",
   "name": "python3"
  },
  "language_info": {
   "codemirror_mode": {
    "name": "ipython",
    "version": 3
   },
   "file_extension": ".py",
   "mimetype": "text/x-python",
   "name": "python",
   "nbconvert_exporter": "python",
   "pygments_lexer": "ipython3",
   "version": "3.4.3"
  }
 },
 "nbformat": 4,
 "nbformat_minor": 0
}
