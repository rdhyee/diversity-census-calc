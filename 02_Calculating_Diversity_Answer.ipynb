{
 "cells": [
  {
   "cell_type": "markdown",
   "metadata": {
    "collapsed": true
   },
   "source": [
    "population of California in 2010:  https://github.com/rdhyee/diversity-census-calc/blob/0.0.1/census_2010_sf1/state_five_categories.csv#L6"
   ]
  },
  {
   "cell_type": "code",
   "execution_count": 1,
   "metadata": {
    "collapsed": false
   },
   "outputs": [],
   "source": [
    "pops = [14956253, 2163804, 4775070, 14013719, 1345110]\n",
    "CA_pop = 37253956"
   ]
  },
  {
   "cell_type": "code",
   "execution_count": 2,
   "metadata": {
    "collapsed": false
   },
   "outputs": [
    {
     "data": {
      "text/plain": [
       "True"
      ]
     },
     "execution_count": 2,
     "metadata": {},
     "output_type": "execute_result"
    }
   ],
   "source": [
    "sum(pops) == CA_pop"
   ]
  },
  {
   "cell_type": "markdown",
   "metadata": {},
   "source": [
    "# Shannon index"
   ]
  },
  {
   "cell_type": "markdown",
   "metadata": {},
   "source": [
    "https://en.wikipedia.org/wiki/Diversity_index#Shannon_index\n",
    "\n",
    "$H' = -\\sum_{i=1}^R p_i \\ln p_i$  "
   ]
  },
  {
   "cell_type": "code",
   "execution_count": 3,
   "metadata": {
    "collapsed": false
   },
   "outputs": [
    {
     "name": "stdout",
     "output_type": "stream",
     "text": [
      "0.7969941601550823\n"
     ]
    }
   ],
   "source": [
    "import math\n",
    "\n",
    "s = 0.0\n",
    "pop_total = sum(pops)\n",
    "\n",
    "for pop in pops:\n",
    "    p = pop / pop_total\n",
    "    s += -p*math.log(p)\n",
    "    \n",
    "# normalize s so that it goes from 0 to 1    \n",
    "s /= -math.log(0.2)\n",
    "\n",
    "print (s)"
   ]
  },
  {
   "cell_type": "markdown",
   "metadata": {},
   "source": [
    "Compare with the [`entropy_5` column for California](https://github.com/rdhyee/diversity-census-calc/blob/0.0.1/census_2010_sf1/state_diversity_measures.csv#L6)"
   ]
  },
  {
   "cell_type": "markdown",
   "metadata": {},
   "source": [
    "\n",
    "# Gini-Simpson\n",
    "\n",
    "https://en.wikipedia.org/wiki/Diversity_index#Gini.E2.80.93Simpson_index\n",
    "\n",
    "$1 - \\lambda = 1 - \\sum_{i=1}^R p_i^2 = 1 - 1/{}^2D$"
   ]
  },
  {
   "cell_type": "code",
   "execution_count": 4,
   "metadata": {
    "collapsed": false
   },
   "outputs": [
    {
     "name": "stdout",
     "output_type": "stream",
     "text": [
      "0.6762156265155197\n"
     ]
    }
   ],
   "source": [
    "pop_total = sum(pops)\n",
    "p2_total = 0.0\n",
    "\n",
    "for pop in pops:\n",
    "    p = pop / pop_total\n",
    "    p2_total += p*p\n",
    "    \n",
    "gs = 1-p2_total\n",
    "print(gs)\n",
    "    "
   ]
  }
 ],
 "metadata": {
  "kernelspec": {
   "display_name": "Python 3",
   "language": "python",
   "name": "python3"
  },
  "language_info": {
   "codemirror_mode": {
    "name": "ipython",
    "version": 3
   },
   "file_extension": ".py",
   "mimetype": "text/x-python",
   "name": "python",
   "nbconvert_exporter": "python",
   "pygments_lexer": "ipython3",
   "version": "3.4.3"
  }
 },
 "nbformat": 4,
 "nbformat_minor": 0
}
