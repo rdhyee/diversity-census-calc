{
 "cells": [
  {
   "cell_type": "markdown",
   "metadata": {},
   "source": [
    "\n",
    "\n",
    "* [Is Houston the most diverse big city in the USA?](http://bit.ly/diversehouston)\n",
    "* [Racial Dot Map](http://bit.ly/rdotmap) and [explanation](http://bit.ly/rdotmapintro)\n",
    "* [bookmarklets for using the Racial Dot Map](http://bit.ly/rdotlets)\n",
    "\n",
    "dot maps are spreading: http://www.robertmanduca.com/projects/jobs.html\n",
    "\n",
    "# more context\n",
    "\n",
    "The US Census is complex....so it's good, even essential, to have a framing question to guide your explorations so that you don't get distracted or lost.\n",
    "\n",
    "I got into thinking of the census in 2002 when I saw a woman I knew in the following SF Chronicle article: \n",
    "\n",
    "[Claremont-Elmwood / Homogeneity in Berkeley? Well, yeah - SFGate](http://www.sfgate.com/bayarea/article/Claremont-Elmwood-Homogeneity-in-Berkeley-3306778.php)\n",
    "\n",
    "I thought at that point it should be easy for regular people to do census calculations....\n",
    "\n",
    "In the summer of 2013, I wrote the following note to Greg Wilson about diversity calculations:\n",
    "\n",
    "[notes for Greg Wilson about an example Data Science Workflow](https://www.evernote.com/shard/s1/sh/b3f79cbc-c0c3-48a3-87b6-91da1b939783/1857ddee32d7baa04c55e629da05e0a7)\n",
    "\n",
    "There's a whole cottage industry in musing on \"diversity\" in the USA:\n",
    "\n",
    "* [The Most Diverse Cities In The US - Business Insider](http://www.businessinsider.com/the-most-diverse-cities-in-the-us-2013-7) -- using 4 categories:  Vallejo.\n",
    "\n",
    "* [Most And Least Diverse Cities: Brown University Study Evaluates Diversity In The U.S.](http://www.huffingtonpost.com/2012/09/07/most-least-diverse-cities-brown-university-study_n_1865715.html)\n",
    "\n",
    "* [The Top 10 Most Diverse Cities in America](http://www.cnbc.com/id/43066296) -- LA?\n",
    "\n",
    "and let's not forget the [Racial Dot Map](http://bit.ly/rdotmap) and [some background](http://bit.ly/rdotmapintro)."
   ]
  },
  {
   "cell_type": "code",
   "execution_count": null,
   "metadata": {
    "collapsed": true
   },
   "outputs": [],
   "source": []
  }
 ],
 "metadata": {
  "kernelspec": {
   "display_name": "Python 3",
   "language": "python",
   "name": "python3"
  },
  "language_info": {
   "codemirror_mode": {
    "name": "ipython",
    "version": 3
   },
   "file_extension": ".py",
   "mimetype": "text/x-python",
   "name": "python",
   "nbconvert_exporter": "python",
   "pygments_lexer": "ipython3",
   "version": "3.4.3"
  }
 },
 "nbformat": 4,
 "nbformat_minor": 0
}
