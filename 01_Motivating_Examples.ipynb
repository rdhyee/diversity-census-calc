{
 "cells": [
  {
   "cell_type": "markdown",
   "metadata": {},
   "source": [
    "* [Is Houston the most diverse big city in the USA?](http://bit.ly/diversehouston)\n",
    "* [Racial Dot Map](http://bit.ly/rdotmap) and [explanation](http://bit.ly/rdotmapintro)\n",
    "* [bookmarklets for using the Racial Dot Map](http://bit.ly/rdotlets)\n",
    "\n",
    "dot maps are spreading: http://www.robertmanduca.com/projects/jobs.html"
   ]
  },
  {
   "cell_type": "code",
   "execution_count": null,
   "metadata": {
    "collapsed": true
   },
   "outputs": [],
   "source": []
  }
 ],
 "metadata": {
  "kernelspec": {
   "display_name": "Python 3",
   "language": "python",
   "name": "python3"
  },
  "language_info": {
   "codemirror_mode": {
    "name": "ipython",
    "version": 3
   },
   "file_extension": ".py",
   "mimetype": "text/x-python",
   "name": "python",
   "nbconvert_exporter": "python",
   "pygments_lexer": "ipython3",
   "version": "3.4.3"
  }
 },
 "nbformat": 4,
 "nbformat_minor": 0
}
