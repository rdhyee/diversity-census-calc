{
 "cells": [
  {
   "cell_type": "markdown",
   "metadata": {},
   "source": [
    "Consider the population of California. If you do a Google search...you might end up at [California QuickFacts from the US Census Bureau](http://quickfacts.census.gov/qfd/states/06000.html). Compare to the [quickfacts about Alameda County](http://quickfacts.census.gov/qfd/states/06/06001.html).\n",
    "\n",
    "\n",
    "Today we [download the data for the USA, states, and counties](http://quickfacts.census.gov/qfd/download_data.html):\n",
    "\n",
    "> The entire State and County QuickFacts dataset, with U.S., state, and county data is available for download. Downloadable data files for cities may be issued later. The current downloadable data set may include items not displayed on QuickFacts tables.\n",
    "\n",
    "Download 3 files into a directory....perhaps where you launched iPython:\n",
    "\n",
    " 1. http://quickfacts.census.gov/qfd/download/DataSet.txt\n",
    " 2. http://quickfacts.census.gov/qfd/download/DataDict.txt\n",
    " 3. http://quickfacts.census.gov/qfd/download/FIPS_CountyName.txt\n",
    "\n"
   ]
  }
 ],
 "metadata": {
  "kernelspec": {
   "display_name": "Python 3",
   "language": "python",
   "name": "python3"
  },
  "language_info": {
   "codemirror_mode": {
    "name": "ipython",
    "version": 3
   },
   "file_extension": ".py",
   "mimetype": "text/x-python",
   "name": "python",
   "nbconvert_exporter": "python",
   "pygments_lexer": "ipython3",
   "version": "3.4.3"
  }
 },
 "nbformat": 4,
 "nbformat_minor": 0
}
