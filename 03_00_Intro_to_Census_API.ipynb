{
 "cells": [
  {
   "cell_type": "code",
   "execution_count": null,
   "metadata": {},
   "outputs": [],
   "source": [
    "%matplotlib inline"
   ]
  },
  {
   "cell_type": "markdown",
   "metadata": {},
   "source": [
    "# Some Context"
   ]
  },
  {
   "cell_type": "markdown",
   "metadata": {},
   "source": [
    "The US Census is complex....so it's good, even essential, to have a framing question to guide your explorations so that you don't get distracted or lost.\n",
    "\n",
    "I got into thinking of the census in 2002 when I saw a woman I knew in the following SF Chronicle article: \n",
    "\n",
    "[Claremont-Elmwood / Homogeneity in Berkeley? Well, yeah - SFGate](http://www.sfgate.com/bayarea/article/Claremont-Elmwood-Homogeneity-in-Berkeley-3306778.php)\n",
    "\n",
    "I thought at that point it should be easy for regular people to do census calculations....\n",
    "\n",
    "In the summer of 2013, I wrote the following note to Greg Wilson about diversity calculations:\n",
    "\n",
    "[notes for Greg Wilson about an example Data Science Workflow](https://www.evernote.com/shard/s1/sh/b3f79cbc-c0c3-48a3-87b6-91da1b939783/1857ddee32d7baa04c55e629da05e0a7)\n",
    "\n",
    "There's a whole cottage industry in musing on \"diversity\" in the USA:\n",
    "\n",
    "* [The Most Diverse Cities In The US - Business Insider](http://www.businessinsider.com/the-most-diverse-cities-in-the-us-2013-7) -- using 4 categories:  Vallejo.\n",
    "\n",
    "* [Most And Least Diverse Cities: Brown University Study Evaluates Diversity In The U.S.](http://www.huffingtonpost.com/2012/09/07/most-least-diverse-cities-brown-university-study_n_1865715.html)\n",
    "\n",
    "* [The Top 10 Most Diverse Cities in America](http://www.cnbc.com/id/43066296) -- LA?\n",
    "\n",
    "and let's not forget the [Racial Dot Map](http://bit.ly/rdotmap) and [some background](http://bit.ly/rdotmapintro).\n"
   ]
  },
  {
   "cell_type": "code",
   "execution_count": null,
   "metadata": {},
   "outputs": [],
   "source": [
    "#  import useful classes of pandas\n",
    "import numpy as np\n",
    "import pandas as pd\n",
    "from pandas import Series, DataFrame, Index"
   ]
  },
  {
   "cell_type": "markdown",
   "metadata": {},
   "source": [
    "http://www.census.gov/developers/\n",
    "\n",
    "Dependency:  use a special version of the `census module`:\n",
    "\n",
    "In BCE, go to the shell and type\n",
    "\n",
    "```\n",
    ". activate py34\n",
    "```\n",
    "\n",
    "to use the Python 34 env.  Then:\n",
    "\n",
    "```\n",
    "pip install -e git+https://github.com/rdhyee/census.git#egg=census\n",
    "```"
   ]
  },
  {
   "cell_type": "markdown",
   "metadata": {},
   "source": [
    "Things we'd like to be able to do:\n",
    "\n",
    "* calculate the population of California.\n",
    "* then calculate the population of every geographic entity going down to census block if possible.\n",
    "* for a given geographic unit, can we get the racial/ethnic breakdown?\n"
   ]
  },
  {
   "cell_type": "markdown",
   "metadata": {},
   "source": [
    "# Figuring out the Census Data is a Big Jigsaw Puzzle"
   ]
  },
  {
   "cell_type": "markdown",
   "metadata": {},
   "source": [
    "Some starting points:\n",
    "    \n",
    "   * [Developers - U.S. Census Bureau](http://www.census.gov/developers/)\n",
    "   * [census/README.rst at master · sunlightlabs/census](https://github.com/sunlightlabs/census/blob/master/README.rst)\n",
    "    \n",
    "\n",
    "We focus first on the API -- and I hope we can come back to processing the bulk data from [Census FTP site](http://www2.census.gov/)"
   ]
  },
  {
   "cell_type": "markdown",
   "metadata": {},
   "source": [
    "# Prerequisites: Getting and activating key"
   ]
  },
  {
   "cell_type": "markdown",
   "metadata": {},
   "source": [
    "* fill out form at http://www.census.gov/developers/tos/key_request.html \n",
    "\n",
    "\"Your request for a new API key has been successfully submitted. Please check your email. In a few minutes you should receive a message with instructions on how to activate your new key.\"\n",
    "\n",
    "* click on link you'll get http://api.census.gov/data/KeySignup?validate={key}\n",
    "\n",
    "Then create a settings.py in the same directory as this notebook (or somewhere else in your Python path) to hold `settings.CENSUS_KEY`"
   ]
  },
  {
   "cell_type": "code",
   "execution_count": null,
   "metadata": {},
   "outputs": [],
   "source": [
    "import settings"
   ]
  },
  {
   "cell_type": "code",
   "execution_count": null,
   "metadata": {},
   "outputs": [],
   "source": [
    "# This cell should run successfully if you have a string set up to represent your census key\n",
    "\n",
    "try:\n",
    "    import settings\n",
    "    assert type(settings.CENSUS_KEY) == str or type(settings.CENSUS_KEY) == unicode\n",
    "except Exception as e:\n",
    "    print (\"error in importing settings to get at settings.CENSUS_KEY\", e)"
   ]
  },
  {
   "cell_type": "markdown",
   "metadata": {},
   "source": [
    "# states module"
   ]
  },
  {
   "cell_type": "code",
   "execution_count": null,
   "metadata": {},
   "outputs": [],
   "source": [
    "# let's figure out a bit about the us module, in particular, us.states\n",
    "# https://github.com/unitedstates/python-us\n",
    "\n",
    "from us import states\n",
    "\n",
    "for (i, state) in enumerate(states.STATES):\n",
    "    print (i, state.name, state.fips)"
   ]
  },
  {
   "cell_type": "markdown",
   "metadata": {},
   "source": [
    "Questions to ponder: How many states are in the list? Is DC included the states list?  How to access the territories?"
   ]
  },
  {
   "cell_type": "markdown",
   "metadata": {},
   "source": [
    "# Formulating URL requests by hand"
   ]
  },
  {
   "cell_type": "markdown",
   "metadata": {},
   "source": [
    "It's immensely useful to be able to access the census API directly but creating a URL with the proper parameters -- as well as using the `census` package."
   ]
  },
  {
   "cell_type": "code",
   "execution_count": null,
   "metadata": {},
   "outputs": [],
   "source": [
    "import requests"
   ]
  },
  {
   "cell_type": "code",
   "execution_count": null,
   "metadata": {},
   "outputs": [],
   "source": [
    "# get the total population of all states\n",
    "url = \"http://api.census.gov/data/2010/sf1?key={key}&get=P0010001,NAME&for=state:*\".format(key=settings.CENSUS_KEY)"
   ]
  },
  {
   "cell_type": "code",
   "execution_count": null,
   "metadata": {},
   "outputs": [],
   "source": [
    "# note the structure of the response\n",
    "r = requests.get(url)\n",
    "print(r.content.decode('utf-8'))"
   ]
  },
  {
   "cell_type": "markdown",
   "metadata": {},
   "source": [
    "# Total Population"
   ]
  },
  {
   "cell_type": "code",
   "execution_count": null,
   "metadata": {},
   "outputs": [],
   "source": [
    "# FILL IN\n",
    "# drop the header record\n",
    "from itertools import islice\n",
    "# total population including PR is 312471327\n",
    "\n"
   ]
  },
  {
   "cell_type": "code",
   "execution_count": null,
   "metadata": {},
   "outputs": [],
   "source": [
    "# FILL IN\n",
    "# exclude PR:  308745538\n",
    "\n",
    "\n"
   ]
  },
  {
   "cell_type": "code",
   "execution_count": null,
   "metadata": {},
   "outputs": [],
   "source": [
    "# let's now create a DataFrame from r.json()\n",
    "\n",
    "df = DataFrame(r.json()[1:], columns=r.json()[0])\n",
    "df['P0010001'] = df['P0010001'].astype(int)"
   ]
  },
  {
   "cell_type": "code",
   "execution_count": null,
   "metadata": {},
   "outputs": [],
   "source": [
    "# FILL IN\n",
    "# calculate the total population using df\n",
    "\n",
    "df.P0010001.sum()\n"
   ]
  },
  {
   "cell_type": "code",
   "execution_count": null,
   "metadata": {},
   "outputs": [],
   "source": [
    "# FILL IN -- now calculate the total population excluding Puerto Rico\n",
    "\n",
    "\n",
    "\n"
   ]
  },
  {
   "cell_type": "markdown",
   "metadata": {},
   "source": [
    "# Focusing on sf1 +2010 census"
   ]
  },
  {
   "cell_type": "markdown",
   "metadata": {},
   "source": [
    "How to map out the geographical hierachy and pull out total population figures?\n",
    "\n",
    " 1. Nation\n",
    " 1. Regions\n",
    " 1. Divisions\n",
    " 1. State\n",
    " 1. County\n",
    " 1. Census Tract\n",
    " 1. Block Group\n",
    " 1. Census Block\n",
    " \n",
    "Questions\n",
    " \n",
    "* What identifiers are used for these various geographic entities?  \n",
    "* Can we get an enumeration of each of these entities?\n",
    "* How to figure out which census tract, block group, census block one is in?\n",
    " \n"
   ]
  },
  {
   "cell_type": "markdown",
   "metadata": {},
   "source": [
    "## Total Population of California"
   ]
  },
  {
   "cell_type": "markdown",
   "metadata": {},
   "source": [
    "[2010 Census Summary File 1](http://www.census.gov/prod/cen2010/doc/sf1.pdf)\n",
    "\n",
    "P0010001 is found in [2010 SF1 API Variables \\[XML\\]](http://api.census.gov/data/2010/sf1/variables.xml) = \"total population\"\n",
    "\n"
   ]
  },
  {
   "cell_type": "code",
   "execution_count": null,
   "metadata": {},
   "outputs": [],
   "source": [
    "from settings import CENSUS_KEY\n",
    "import census\n",
    "\n",
    "c=census.Census(settings.CENSUS_KEY) \n",
    "c.sf1.get(('NAME', 'P0010001'), {'for': 'state:%s' % states.CA.fips})"
   ]
  },
  {
   "cell_type": "code",
   "execution_count": null,
   "metadata": {},
   "outputs": [],
   "source": [
    "\"population of California: {0}\".format(\n",
    "        int(c.sf1.get(('NAME', 'P0010001'), {'for': 'state:%s' % states.CA.fips})[0]['P0010001']))"
   ]
  },
  {
   "cell_type": "markdown",
   "metadata": {},
   "source": [
    "Let's try to get at the counties of California and their populations"
   ]
  },
  {
   "cell_type": "code",
   "execution_count": null,
   "metadata": {},
   "outputs": [],
   "source": [
    "ca_counties = c.sf1.get(('NAME', 'P0010001'), geo={'for': 'county:*', 'in': 'state:%s' % states.CA.fips})"
   ]
  },
  {
   "cell_type": "code",
   "execution_count": null,
   "metadata": {},
   "outputs": [],
   "source": [
    "# create a DataFrame, convert the 'P0010001' column\n",
    "# show by descending population\n",
    "df = DataFrame(ca_counties)\n",
    "df['P0010001'] = df['P0010001'].astype('int')\n",
    "df.sort_index(by='P0010001', ascending=False)"
   ]
  },
  {
   "cell_type": "code",
   "execution_count": null,
   "metadata": {},
   "outputs": [],
   "source": [
    "#http://stackoverflow.com/a/13130357/7782\n",
    "count,division = np.histogram(df['P0010001'])\n",
    "df['P0010001'].hist(bins=division)"
   ]
  },
  {
   "cell_type": "code",
   "execution_count": null,
   "metadata": {},
   "outputs": [],
   "source": []
  }
 ],
 "metadata": {
  "anaconda-cloud": {},
  "kernelspec": {
   "display_name": "Python [default]",
   "language": "python",
   "name": "python2"
  },
  "language_info": {
   "codemirror_mode": {
    "name": "ipython",
    "version": 2
   },
   "file_extension": ".py",
   "mimetype": "text/x-python",
   "name": "python",
   "nbconvert_exporter": "python",
   "pygments_lexer": "ipython2",
   "version": "2.7.12"
  }
 },
 "nbformat": 4,
 "nbformat_minor": 1
}
