{
 "cells": [
  {
   "cell_type": "markdown",
   "metadata": {},
   "source": [
    "The goal I set out to do: rewrite the [Choropleth](http://bl.ocks.org/mbostock/4060606) d3.js example to work in the IPython notebook.  For future work: once we are able to reproduce the Choropleth example, then work to feed the map arbitrary county-level data.  \n",
    "\n",
    "The first thing I did was to make sure I could get \n",
    "\n",
    " <http://bl.ocks.org/mbostock/raw/4060606/>\n",
    "\n",
    "to work by copying the source to\n",
    "\n",
    " <http://mashupguide.net/wwod14/mbostock_4060606.html>\n",
    "\n",
    "and serving `us.json` and `unemployment.tsv` from my server with [CORS enabled](http://enable-cors.org/) for these two files:\n",
    "\n",
    " * <http://mashupguide.net/wwod14/us.json>\n",
    " * <http://mashupguide.net/wwod14/unemployment.tsv>\n",
    " \n",
    "With the map working on standalone HTML page, then I turned to embedding the map inside an IPython notebook. That's where it got really interesting!"
   ]
  },
  {
   "cell_type": "code",
   "execution_count": null,
   "metadata": {
    "collapsed": false
   },
   "outputs": [],
   "source": [
    "# print out the version of IPython used\n",
    "import IPython\n",
    "IPython.version_info"
   ]
  },
  {
   "cell_type": "code",
   "execution_count": null,
   "metadata": {
    "collapsed": false
   },
   "outputs": [],
   "source": [
    "%%javascript\n",
    "// https://github.com/mbostock/d3/issues/1693\n",
    "require.config({\n",
    "  paths: {\n",
    "    d3: \"http://d3js.org/d3.v3.min\",\n",
    "    queue: \"http://d3js.org/queue.v1.min\",\n",
    "    topojson: \"http://d3js.org/topojson.v1.min\"\n",
    "  }\n",
    "});\n",
    "\n",
    "require([\"d3\", \"queue\", \"topojson\"], function(d3, queue, topojson) {\n",
    "  console.log(d3.version);\n",
    "  console.log(queue.version);\n",
    "  console.log(topojson.version);\n",
    "});"
   ]
  },
  {
   "cell_type": "code",
   "execution_count": null,
   "metadata": {
    "collapsed": false
   },
   "outputs": [],
   "source": [
    "%%html\n",
    "<style type=\"text/css\">\n",
    "\n",
    ".counties {\n",
    "  fill: none;\n",
    "}\n",
    "\n",
    ".states {\n",
    "  fill: none;\n",
    "  stroke: #fff;\n",
    "  stroke-linejoin: round;\n",
    "}\n",
    "\n",
    ".q0-9 { fill:rgb(247,251,255); }\n",
    ".q1-9 { fill:rgb(222,235,247); }\n",
    ".q2-9 { fill:rgb(198,219,239); }\n",
    ".q3-9 { fill:rgb(158,202,225); }\n",
    ".q4-9 { fill:rgb(107,174,214); }\n",
    ".q5-9 { fill:rgb(66,146,198); }\n",
    ".q6-9 { fill:rgb(33,113,181); }\n",
    ".q7-9 { fill:rgb(8,81,156); }\n",
    ".q8-9 { fill:rgb(8,48,107); }\n",
    "\n",
    "</style>"
   ]
  },
  {
   "cell_type": "code",
   "execution_count": null,
   "metadata": {
    "collapsed": false
   },
   "outputs": [],
   "source": [
    "%%html\n",
    "<div id=\"county_map\" style=\"height:600px; width:100%\"></div>\n",
    "<script>\n",
    "// https://github.com/mbostock/d3/issues/1693\n",
    "require.config({\n",
    "  paths: {\n",
    "    d3: \"http://d3js.org/d3.v3.min\",\n",
    "    queue: \"http://d3js.org/queue.v1.min\",\n",
    "    topojson: \"http://d3js.org/topojson.v1.min\"\n",
    "  }\n",
    "});\n",
    "\n",
    "require([\"d3\", \"queue\", \"topojson\"], function(d3, queue, topojson) {\n",
    "  console.log(d3.version);\n",
    "  console.log(queue.version);\n",
    "  console.log(topojson.version);\n",
    "\n",
    "\n",
    "    var width = 960,\n",
    "        height = 500;\n",
    "\n",
    "    var rateById = d3.map();\n",
    "\n",
    "    var quantize = d3.scale.quantize()\n",
    "        .domain([0, .15])\n",
    "        .range(d3.range(9).map(function(i) { return \"q\" + i + \"-9\"; }));\n",
    "\n",
    "    var path = d3.geo.path();\n",
    "\n",
    "    var svg = d3.select('#county_map').append(\"svg\")\n",
    "        .attr(\"width\", width)\n",
    "        .attr(\"height\", height);\n",
    "\n",
    "    queue()\n",
    "        .defer(d3.json, \"files/data/us.json\")\n",
    "        .defer(d3.tsv, \"files/temp/unemployment.tsv\", function(d) { rateById.set(d.id, +d.rate); })\n",
    "        .await(ready);\n",
    "\n",
    "    function ready(error, us) {\n",
    "      svg.append(\"g\")\n",
    "          .attr(\"class\", \"counties\")\n",
    "        .selectAll(\"path\")\n",
    "          .data(topojson.feature(us, us.objects.counties).features)\n",
    "        .enter().append(\"path\")\n",
    "          .attr(\"class\", function(d) { return quantize(rateById.get(d.id)); })\n",
    "          .attr(\"d\", path);\n",
    "\n",
    "      svg.append(\"path\")\n",
    "          .datum(topojson.mesh(us, us.objects.states, function(a, b) { return a !== b; }))\n",
    "          .attr(\"class\", \"states\")\n",
    "          .attr(\"d\", path);\n",
    "    }\n",
    "    \n",
    "})\n",
    "</script>"
   ]
  },
  {
   "cell_type": "code",
   "execution_count": null,
   "metadata": {
    "collapsed": false
   },
   "outputs": [],
   "source": [
    "from census_api_utils import (counties, census_labels, diversity, FINAL_LABELS)\n",
    "r = list(counties(census_labels()))"
   ]
  },
  {
   "cell_type": "code",
   "execution_count": null,
   "metadata": {
    "collapsed": false
   },
   "outputs": [],
   "source": [
    "from pandas import DataFrame\n",
    "\n",
    "counties_df = DataFrame(r)\n",
    "counties_df = diversity(counties_df)\n",
    "counties_df[FINAL_LABELS].head()"
   ]
  },
  {
   "cell_type": "code",
   "execution_count": null,
   "metadata": {
    "collapsed": false
   },
   "outputs": [],
   "source": [
    "counties_df['fips_for_map'] = counties_df.apply(lambda s: str(int(s['state']))+s['county'], axis=1)"
   ]
  },
  {
   "cell_type": "code",
   "execution_count": null,
   "metadata": {
    "collapsed": false
   },
   "outputs": [],
   "source": [
    "df = DataFrame()\n",
    "df[['id','diversity']] = counties_df[['fips_for_map', 'entropy5']]"
   ]
  },
  {
   "cell_type": "code",
   "execution_count": null,
   "metadata": {
    "collapsed": false
   },
   "outputs": [],
   "source": [
    "import os\n",
    "import shutil\n",
    "if not (os.path.exists(\"temp\") and os.path.isdir(\"temp\")):\n",
    "        os.makedirs(\"temp\")"
   ]
  },
  {
   "cell_type": "code",
   "execution_count": null,
   "metadata": {
    "collapsed": false
   },
   "outputs": [],
   "source": [
    "df.to_csv('temp/entropy5.tsv', sep=\"\\t\", index=False)"
   ]
  },
  {
   "cell_type": "code",
   "execution_count": null,
   "metadata": {
    "collapsed": false
   },
   "outputs": [],
   "source": [
    "!head temp/entropy5.tsv"
   ]
  },
  {
   "cell_type": "code",
   "execution_count": null,
   "metadata": {
    "collapsed": false
   },
   "outputs": [],
   "source": [
    "%%html\n",
    "<div id=\"diversity_map\" style=\"height:600px; width:100%\"></div>\n",
    "<script>\n",
    "// https://github.com/mbostock/d3/issues/1693\n",
    "require.config({\n",
    "  paths: {\n",
    "    d3: \"http://d3js.org/d3.v3.min\",\n",
    "    queue: \"http://d3js.org/queue.v1.min\",\n",
    "    topojson: \"http://d3js.org/topojson.v1.min\"\n",
    "  }\n",
    "});\n",
    "\n",
    "require([\"d3\", \"queue\", \"topojson\"], function(d3, queue, topojson) {\n",
    "  console.log(d3.version);\n",
    "  console.log(queue.version);\n",
    "  console.log(topojson.version);\n",
    "\n",
    "\n",
    "    var width = 960,\n",
    "        height = 500;\n",
    "\n",
    "    var rateById = d3.map();\n",
    "\n",
    "    var quantize = d3.scale.quantize()\n",
    "        .domain([0, 1.0])\n",
    "        .range(d3.range(9).map(function(i) { return \"q\" + i + \"-9\"; }));\n",
    "\n",
    "    var path = d3.geo.path();\n",
    "\n",
    "    var svg = d3.select('#diversity_map').append(\"svg\")\n",
    "        .attr(\"width\", width)\n",
    "        .attr(\"height\", height);\n",
    "\n",
    "    queue()\n",
    "        .defer(d3.json, \"files/data/us.json\")\n",
    "        .defer(d3.tsv, \"files/temp/entropy5.tsv\", function(d) { rateById.set(d.id, +d.diversity); })\n",
    "        .await(ready);\n",
    "\n",
    "    function ready(error, us) {\n",
    "      svg.append(\"g\")\n",
    "          .attr(\"class\", \"counties\")\n",
    "        .selectAll(\"path\")\n",
    "          .data(topojson.feature(us, us.objects.counties).features)\n",
    "        .enter().append(\"path\")\n",
    "          .attr(\"class\", function(d) { return quantize(rateById.get(d.id)); })\n",
    "          .attr(\"d\", path);\n",
    "\n",
    "      svg.append(\"path\")\n",
    "          .datum(topojson.mesh(us, us.objects.states, function(a, b) { return a !== b; }))\n",
    "          .attr(\"class\", \"states\")\n",
    "          .attr(\"d\", path);\n",
    "    }\n",
    "    \n",
    "})\n",
    "</script>"
   ]
  },
  {
   "cell_type": "code",
   "execution_count": null,
   "metadata": {
    "collapsed": false
   },
   "outputs": [],
   "source": []
  }
 ],
 "metadata": {
  "kernelspec": {
   "display_name": "Python 3",
   "language": "python",
   "name": "python3"
  },
  "language_info": {
   "codemirror_mode": {
    "name": "ipython",
    "version": 3
   },
   "file_extension": ".py",
   "mimetype": "text/x-python",
   "name": "python",
   "nbconvert_exporter": "python",
   "pygments_lexer": "ipython3",
   "version": "3.4.3"
  }
 },
 "nbformat": 4,
 "nbformat_minor": 0
}
