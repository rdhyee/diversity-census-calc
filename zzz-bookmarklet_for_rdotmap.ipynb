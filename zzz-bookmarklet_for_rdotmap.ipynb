{
 "cells": [
  {
   "cell_type": "code",
   "execution_count": 3,
   "metadata": {
    "collapsed": true
   },
   "outputs": [],
   "source": [
    "from urllib.parse import unquote"
   ]
  },
  {
   "cell_type": "markdown",
   "metadata": {},
   "source": [
    "# GMap -> rdotmap"
   ]
  },
  {
   "cell_type": "code",
   "execution_count": 2,
   "metadata": {
    "collapsed": false
   },
   "outputs": [],
   "source": [
    "bookmarklet = \\\n",
    "\"\"\"\n",
    "javascript:(function()%20%7Bvar%20d%3Ddocument,w%3Dwindow,l%3Dd.location.href%3Blats%3Dl.indexOf(%27!2d%27)%2B3%3Blate%3Dl.indexOf(%27!3d%27,lats)%3Blat%3Dl.substring(lats,late)%3Blngs%3Dl.indexOf(%27!3d%27)%2B3%3Blnge%3Dl.indexOf(%27!%27,lngs)%3Blnge%3D%3D-1%3Flnge%3Dl.length:lnge%3Dlnge%3Blng%3Dl.substring(lngs,lnge)%3Bw.open(%27http://demographics.coopercenter.org/DotMap/index.html%23lat%3D%27%20%2Blng%20%2B%20%27%26lon%3D%27%20%2B%20lat%20%2B%20%27%26z%3D12%27)%3B%7D)()\n",
    "\"\"\""
   ]
  },
  {
   "cell_type": "code",
   "execution_count": 5,
   "metadata": {
    "collapsed": false
   },
   "outputs": [
    {
     "name": "stdout",
     "output_type": "stream",
     "text": [
      "\n",
      "javascript:(function() {var d=document,w=window,l=d.location.href;lats=l.indexOf('!2d')+3;late=l.indexOf('!3d',lats);lat=l.substring(lats,late);lngs=l.indexOf('!3d')+3;lnge=l.indexOf('!',lngs);lnge==-1?lnge=l.length:lnge=lnge;lng=l.substring(lngs,lnge);w.open('http://demographics.coopercenter.org/DotMap/index.html#lat=' +lng + '&lon=' + lat + '&z=12');})()\n",
      "\n"
     ]
    }
   ],
   "source": [
    "print (unquote(bookmarklet))"
   ]
  },
  {
   "cell_type": "code",
   "execution_count": 42,
   "metadata": {
    "collapsed": false
   },
   "outputs": [],
   "source": [
    "script = \"\"\"\n",
    "javascript:(\n",
    "function() {\n",
    "    var d = document,\n",
    "        w = window,\n",
    "        l = d.location.href;\n",
    "        \n",
    "    parts = l.split(\"/\");\n",
    "\n",
    "    for (i=0; i < parts.length; i++ ) {\n",
    "        p = parts[i];\n",
    "        if (p.startsWith(\"@\")) {\n",
    "            c = p.substring(1).split(\",\");\n",
    "            c[2] = c[2].substring(0,c[2].length-1);\n",
    "            w.open(\"http://demographics.coopercenter.org/DotMap/index.html#lat=\" +\n",
    "                        c[0] + \"&lon=\" + c[1] + \"&z=\" + c[2]);\n",
    "          }\n",
    "    }\n",
    "        \n",
    "})()\n",
    "\"\"\""
   ]
  },
  {
   "cell_type": "code",
   "execution_count": 43,
   "metadata": {
    "collapsed": false
   },
   "outputs": [
    {
     "name": "stdout",
     "output_type": "stream",
     "text": [
      "javascript:( function() { var d = document, w = window, l = d.location.href; parts = l.split(\"/\"); for (i=0; i < parts.length; i++ ) { p = parts[i]; if (p.startsWith(\"@\")) { c = p.substring(1).split(\",\"); c[2] = c[2].substring(0,c[2].length-1); w.open(\"http://demographics.coopercenter.org/DotMap/index.html#lat=\" + c[0] + \"&lon=\" + c[1] + \"&z=\" + c[2]); } } })()\n"
     ]
    }
   ],
   "source": [
    "print (\" \".join(script.split()))"
   ]
  },
  {
   "cell_type": "markdown",
   "metadata": {},
   "source": [
    "# rdotmap -> GMap"
   ]
  },
  {
   "cell_type": "code",
   "execution_count": 24,
   "metadata": {
    "collapsed": true
   },
   "outputs": [],
   "source": [
    "bookmarklet = \\\n",
    "\"\"\"\n",
    "javascript:(function() %7Bwindow.open(\"http://maps.google.com%3Fq%3D\" %2Bmap.getCenter().lat() %2B \",\" %2B map.getCenter().lng())%3B%7D)()\n",
    "\"\"\""
   ]
  },
  {
   "cell_type": "code",
   "execution_count": 25,
   "metadata": {
    "collapsed": false
   },
   "outputs": [
    {
     "name": "stdout",
     "output_type": "stream",
     "text": [
      "\n",
      "javascript:(function() {window.open(\"http://maps.google.com?q=\" +map.getCenter().lat() + \",\" + map.getCenter().lng());})()\n",
      "\n"
     ]
    }
   ],
   "source": [
    "print (unquote(bookmarklet))"
   ]
  },
  {
   "cell_type": "code",
   "execution_count": 26,
   "metadata": {
    "collapsed": true
   },
   "outputs": [],
   "source": [
    "# https://www.google.com/maps/@37.868604,-122.2585271,17z"
   ]
  },
  {
   "cell_type": "code",
   "execution_count": 29,
   "metadata": {
    "collapsed": true
   },
   "outputs": [],
   "source": [
    "script = \"\"\"\n",
    "javascript:(\n",
    "function() {\n",
    "    window.open(\"https://www.google.com/maps/@\" +\n",
    "                map.getCenter().lat() + \",\" + \n",
    "                map.getCenter().lng() + \",\" +\n",
    "                map.getZoom() + \"z\");\n",
    "})()\n",
    "\"\"\""
   ]
  },
  {
   "cell_type": "code",
   "execution_count": 30,
   "metadata": {
    "collapsed": false
   },
   "outputs": [
    {
     "name": "stdout",
     "output_type": "stream",
     "text": [
      "javascript:( function() { window.open(\"https://www.google.com/maps/@\" + map.getCenter().lat() + \",\" + map.getCenter().lng() + \",\" + map.getZoom() + \"z\"); })()\n"
     ]
    }
   ],
   "source": [
    "print (\" \".join(script.split()))"
   ]
  },
  {
   "cell_type": "markdown",
   "metadata": {},
   "source": [
    "# generate rdotmap link"
   ]
  },
  {
   "cell_type": "code",
   "execution_count": 36,
   "metadata": {
    "collapsed": true
   },
   "outputs": [],
   "source": [
    "# http://demographics.coopercenter.org/DotMap/index.html#lat=33.6670191&lon=-117.7646826&z=10\n",
    "script = \"\"\"\n",
    "javascript:(\n",
    "function() {\n",
    "    var l = \"http://demographics.coopercenter.org/DotMap/index.html\" + \n",
    "                \"#lat=\" + map.getCenter().lat() + \n",
    "                \"&lon=\" + map.getCenter().lng() + \n",
    "                \"&z=\" + map.getZoom();\n",
    "    document.location = l;\n",
    "})()\n",
    "\"\"\""
   ]
  },
  {
   "cell_type": "code",
   "execution_count": 37,
   "metadata": {
    "collapsed": false
   },
   "outputs": [
    {
     "name": "stdout",
     "output_type": "stream",
     "text": [
      "javascript:( function() { var l = \"http://demographics.coopercenter.org/DotMap/index.html\" + \"#lat=\" + map.getCenter().lat() + \"&lon=\" + map.getCenter().lng() + \"&z=\" + map.getZoom(); document.location = l; })()\n"
     ]
    }
   ],
   "source": [
    "print (\" \".join(script.split()))"
   ]
  },
  {
   "cell_type": "code",
   "execution_count": null,
   "metadata": {
    "collapsed": true
   },
   "outputs": [],
   "source": []
  }
 ],
 "metadata": {
  "kernelspec": {
   "display_name": "Python 3",
   "language": "python",
   "name": "python3"
  },
  "language_info": {
   "codemirror_mode": {
    "name": "ipython",
    "version": 3
   },
   "file_extension": ".py",
   "mimetype": "text/x-python",
   "name": "python",
   "nbconvert_exporter": "python",
   "pygments_lexer": "ipython3",
   "version": "3.4.3"
  }
 },
 "nbformat": 4,
 "nbformat_minor": 0
}
