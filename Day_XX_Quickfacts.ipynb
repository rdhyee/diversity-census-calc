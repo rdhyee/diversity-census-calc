{
 "cells": [
  {
   "cell_type": "markdown",
   "metadata": {},
   "source": [
    "Consider the population of California. If you do a Google search...you might end up at [California QuickFacts from the US Census Bureau](http://quickfacts.census.gov/qfd/states/06000.html). Compare to the [quickfacts about Alameda County](http://quickfacts.census.gov/qfd/states/06/06001.html).\n",
    "\n",
    "\n",
    "Today we [download the data for the USA, states, and counties](http://quickfacts.census.gov/qfd/download_data.html):\n",
    "\n",
    "> The entire State and County QuickFacts dataset, with U.S., state, and county data is available for download. Downloadable data files for cities may be issued later. The current downloadable data set may include items not displayed on QuickFacts tables.\n",
    "\n",
    "Download 3 files into a directory....perhaps where you launched iPython:\n",
    "\n",
    " 1. http://quickfacts.census.gov/qfd/download/DataSet.txt\n",
    " 2. http://quickfacts.census.gov/qfd/download/DataDict.txt\n",
    " 3. http://quickfacts.census.gov/qfd/download/FIPS_CountyName.txt\n",
    "\n"
   ]
  },
  {
   "cell_type": "code",
   "execution_count": 1,
   "metadata": {
    "collapsed": false
   },
   "outputs": [
    {
     "name": "stdout",
     "output_type": "stream",
     "text": [
      "/Users/raymondyee/C/src/diversity-census-calc\n"
     ]
    },
    {
     "name": "stderr",
     "output_type": "stream",
     "text": [
      "sh: line 2: cd: ../data: No such file or directory\n",
      "--2015-08-17 16:51:49--  http://quickfacts.census.gov/qfd/download/DataSet.txt\n",
      "Resolving quickfacts.census.gov... 184.23.159.177, 184.23.159.176, 2001:5a8:100::b817:9fb0, ...\n",
      "Connecting to quickfacts.census.gov|184.23.159.177|:80... connected.\n",
      "HTTP request sent, awaiting response... 200 OK\n",
      "Length: unspecified [text/plain]\n",
      "Saving to: 'DataSet.txt'\n",
      "\n",
      "     0K .......... .......... .......... .......... .......... 1.04M\n",
      "    50K .......... .......... .......... .......... .......... 1.28M\n",
      "   100K .......... .......... .......... .......... .......... 1.29M\n",
      "   150K .......... .......... .......... .......... ..........  757K\n",
      "   200K .......... .......... .......... .......... .......... 2.62M\n",
      "   250K .......... .......... .......... .......... .......... 1.11M\n",
      "   300K .......... .......... .......... .......... .......... 2.13M\n",
      "   350K .......... .......... .......... .......... .......... 1.31M\n",
      "   400K .......... .......... .......... .......... .......... 1.26M\n",
      "   450K .......... .......... .......... .......... ..........  726K\n",
      "   500K .......... .......... .......... .......... .......... 1.45M\n",
      "   550K .......... .......... .......... .......... .......... 2.34M\n",
      "   600K .......... .......... .......... .......... .......... 1.44M\n",
      "   650K .......... .......... .......... .......... .......... 1.29M\n",
      "   700K .......... .......... .......... .......... .......... 1.31M\n",
      "   750K .......... .......... .......... .......... .......... 1.27M\n",
      "   800K .......... .......... .......... .......               1.34M=0.6s\n",
      "\n",
      "2015-08-17 16:51:50 (1.26 MB/s) - 'DataSet.txt' saved [857105]\n",
      "\n",
      "--2015-08-17 16:51:50--  http://quickfacts.census.gov/qfd/download/DataDict.txt\n",
      "Resolving quickfacts.census.gov... 184.23.159.176, 184.23.159.177, 2001:5a8:100::b817:9fb0, ...\n",
      "Connecting to quickfacts.census.gov|184.23.159.176|:80... connected.\n",
      "HTTP request sent, awaiting response... 200 OK\n",
      "Length: 7976 (7.8K) [text/plain]\n",
      "Saving to: 'DataDict.txt'\n",
      "\n",
      "     0K .......                                               100% 1.70M=0.004s\n",
      "\n",
      "2015-08-17 16:51:50 (1.70 MB/s) - 'DataDict.txt' saved [7976/7976]\n",
      "\n",
      "--2015-08-17 16:51:50--  http://quickfacts.census.gov/qfd/download/FIPS_CountyName.txt\n",
      "Resolving quickfacts.census.gov... 184.23.159.177, 184.23.159.176, 2001:5a8:100::b817:9fb0, ...\n",
      "Connecting to quickfacts.census.gov|184.23.159.177|:80... connected.\n",
      "HTTP request sent, awaiting response... 200 OK\n",
      "Length: unspecified [text/plain]\n",
      "Saving to: 'FIPS_CountyName.txt'\n",
      "\n",
      "     0K .......... .......... .......... .......... .......... 1.01M\n",
      "    50K .......... .......... .......                          1.47M=0.07s\n",
      "\n",
      "2015-08-17 16:51:50 (1.13 MB/s) - 'FIPS_CountyName.txt' saved [79468]\n",
      "\n"
     ]
    }
   ],
   "source": [
    "%%sh\n",
    "pwd\n",
    "cd ../data\n",
    "wget http://quickfacts.census.gov/qfd/download/DataSet.txt\n",
    "wget http://quickfacts.census.gov/qfd/download/DataDict.txt\n",
    "wget http://quickfacts.census.gov/qfd/download/FIPS_CountyName.txt"
   ]
  }
 ],
 "metadata": {
  "kernelspec": {
   "display_name": "Python 3",
   "language": "python",
   "name": "python3"
  },
  "language_info": {
   "codemirror_mode": {
    "name": "ipython",
    "version": 3
   },
   "file_extension": ".py",
   "mimetype": "text/x-python",
   "name": "python",
   "nbconvert_exporter": "python",
   "pygments_lexer": "ipython3",
   "version": "3.4.3"
  }
 },
 "nbformat": 4,
 "nbformat_minor": 0
}
